{
 "cells": [
  {
   "cell_type": "code",
   "execution_count": 20,
   "id": "290a8ae5",
   "metadata": {},
   "outputs": [],
   "source": [
    "n = 10 ** 12 - 1"
   ]
  },
  {
   "cell_type": "code",
   "execution_count": 21,
   "id": "b2e982d2",
   "metadata": {},
   "outputs": [],
   "source": [
    "limit = 10 ** 6"
   ]
  },
  {
   "cell_type": "code",
   "execution_count": 22,
   "id": "c4b7cd1a",
   "metadata": {},
   "outputs": [],
   "source": [
    "# finding an algorithm to find the answer for the biggest possible number. "
   ]
  },
  {
   "cell_type": "code",
   "execution_count": 23,
   "id": "7d318e08",
   "metadata": {},
   "outputs": [],
   "source": [
    "import math "
   ]
  },
  {
   "cell_type": "code",
   "execution_count": 25,
   "id": "965ca1a5",
   "metadata": {},
   "outputs": [],
   "source": [
    "temp = math.sqrt(n)"
   ]
  },
  {
   "cell_type": "code",
   "execution_count": 26,
   "id": "c00be0a4",
   "metadata": {},
   "outputs": [
    {
     "data": {
      "text/plain": [
       "True"
      ]
     },
     "execution_count": 26,
     "metadata": {},
     "output_type": "execute_result"
    }
   ],
   "source": [
    "temp < limit"
   ]
  },
  {
   "cell_type": "code",
   "execution_count": 9,
   "id": "bdb30da5",
   "metadata": {},
   "outputs": [],
   "source": [
    "c = n % limit"
   ]
  },
  {
   "cell_type": "code",
   "execution_count": 13,
   "id": "3b6c7388",
   "metadata": {},
   "outputs": [],
   "source": [
    "product = n - c "
   ]
  },
  {
   "cell_type": "code",
   "execution_count": 14,
   "id": "6e2adf0b",
   "metadata": {
    "scrolled": true
   },
   "outputs": [
    {
     "data": {
      "text/plain": [
       "999999000000"
      ]
     },
     "execution_count": 14,
     "metadata": {},
     "output_type": "execute_result"
    }
   ],
   "source": [
    "product"
   ]
  },
  {
   "cell_type": "code",
   "execution_count": null,
   "id": "ed17a907",
   "metadata": {},
   "outputs": [],
   "source": []
  },
  {
   "cell_type": "code",
   "execution_count": 19,
   "id": "02b5b6fb",
   "metadata": {},
   "outputs": [
    {
     "data": {
      "text/plain": [
       "1000000"
      ]
     },
     "execution_count": 19,
     "metadata": {},
     "output_type": "execute_result"
    }
   ],
   "source": [
    "10 ** 6"
   ]
  },
  {
   "cell_type": "code",
   "execution_count": 15,
   "id": "1a8f1f56",
   "metadata": {},
   "outputs": [
    {
     "data": {
      "text/plain": [
       "999999.0"
      ]
     },
     "execution_count": 15,
     "metadata": {},
     "output_type": "execute_result"
    }
   ],
   "source": [
    "product /10 **6 "
   ]
  },
  {
   "cell_type": "code",
   "execution_count": 18,
   "id": "ffcf518a",
   "metadata": {},
   "outputs": [
    {
     "data": {
      "text/plain": [
       "1000000.0"
      ]
     },
     "execution_count": 18,
     "metadata": {},
     "output_type": "execute_result"
    }
   ],
   "source": [
    "math.sqrt(n)"
   ]
  },
  {
   "cell_type": "code",
   "execution_count": 125,
   "id": "8c14c8b0",
   "metadata": {},
   "outputs": [],
   "source": [
    "def ans(n: int) -> list:\n",
    "    limit = 10 ** 6\n",
    "    if (n == 1):\n",
    "        return [-1]\n",
    "\n",
    "    a = n - 1\n",
    "    b = 1\n",
    "    c = 1\n",
    "\n",
    "    if a > (10 ** 6):\n",
    "        if n == 10 ** 12:\n",
    "            return [1000000, 999999, 999999+1]\n",
    "        c = n % limit\n",
    "        a = limit\n",
    "        b = (n - c) // a\n",
    "\n",
    "    return [a, b, c]"
   ]
  },
  {
   "cell_type": "code",
   "execution_count": 140,
   "id": "43378638",
   "metadata": {},
   "outputs": [],
   "source": [
    "def check(arr, n):\n",
    "    print(arr, n)\n",
    "    for i in arr:\n",
    "        if i > limit or i <= 0:\n",
    "            return False \n",
    "    return arr[0]*arr[1] + arr[2] == n"
   ]
  },
  {
   "cell_type": "code",
   "execution_count": 141,
   "id": "e45d4caf",
   "metadata": {},
   "outputs": [
    {
     "name": "stdout",
     "output_type": "stream",
     "text": [
      "[1000000, 999999.0, 1000000] 1000000000000\n"
     ]
    },
    {
     "data": {
      "text/plain": [
       "True"
      ]
     },
     "execution_count": 141,
     "metadata": {},
     "output_type": "execute_result"
    }
   ],
   "source": [
    "check([1000000, 999999.0, 999999+1], 10 ** 12)"
   ]
  },
  {
   "cell_type": "code",
   "execution_count": 142,
   "id": "06c9cfd1",
   "metadata": {},
   "outputs": [
    {
     "name": "stdout",
     "output_type": "stream",
     "text": [
      "[1000000, 2, 0] 2000000\n"
     ]
    },
    {
     "data": {
      "text/plain": [
       "False"
      ]
     },
     "execution_count": 142,
     "metadata": {},
     "output_type": "execute_result"
    }
   ],
   "source": [
    "n = 2000000\n",
    "check(ans(n), n)"
   ]
  },
  {
   "cell_type": "code",
   "execution_count": 138,
   "id": "1aaee259",
   "metadata": {},
   "outputs": [
    {
     "name": "stdout",
     "output_type": "stream",
     "text": [
      "error at i 2000000\n",
      "error at i 3000000\n",
      "error at i 4000000\n",
      "error at i 5000000\n",
      "error at i 6000000\n",
      "error at i 7000000\n",
      "error at i 8000000\n",
      "error at i 9000000\n",
      "error at i 10000000\n",
      "error at i 11000000\n",
      "error at i 12000000\n",
      "error at i 13000000\n",
      "error at i 14000000\n",
      "error at i 15000000\n",
      "error at i 16000000\n",
      "error at i 17000000\n",
      "error at i 18000000\n",
      "error at i 19000000\n",
      "error at i 20000000\n",
      "error at i 21000000\n",
      "error at i 22000000\n",
      "error at i 23000000\n",
      "error at i 24000000\n",
      "error at i 25000000\n",
      "error at i 26000000\n",
      "error at i 27000000\n",
      "error at i 28000000\n",
      "error at i 29000000\n",
      "error at i 30000000\n",
      "error at i 31000000\n",
      "error at i 32000000\n",
      "error at i 33000000\n",
      "error at i 34000000\n",
      "error at i 35000000\n",
      "error at i 36000000\n",
      "error at i 37000000\n",
      "error at i 38000000\n",
      "error at i 39000000\n",
      "error at i 40000000\n",
      "error at i 41000000\n",
      "error at i 42000000\n"
     ]
    },
    {
     "ename": "KeyboardInterrupt",
     "evalue": "",
     "output_type": "error",
     "traceback": [
      "\u001b[0;31m---------------------------------------------------------------------------\u001b[0m",
      "\u001b[0;31mKeyboardInterrupt\u001b[0m                         Traceback (most recent call last)",
      "\u001b[0;32m/tmp/ipykernel_14506/713404230.py\u001b[0m in \u001b[0;36m<module>\u001b[0;34m\u001b[0m\n\u001b[1;32m      1\u001b[0m \u001b[0;32mfor\u001b[0m \u001b[0mi\u001b[0m \u001b[0;32min\u001b[0m \u001b[0mrange\u001b[0m\u001b[0;34m(\u001b[0m\u001b[0;36m10\u001b[0m \u001b[0;34m**\u001b[0m \u001b[0;36m6\u001b[0m\u001b[0;34m,\u001b[0m \u001b[0;36m10\u001b[0m \u001b[0;34m**\u001b[0m \u001b[0;36m8\u001b[0m\u001b[0;34m)\u001b[0m\u001b[0;34m:\u001b[0m\u001b[0;34m\u001b[0m\u001b[0;34m\u001b[0m\u001b[0m\n\u001b[0;32m----> 2\u001b[0;31m     \u001b[0;32mif\u001b[0m \u001b[0;34m(\u001b[0m \u001b[0mcheck\u001b[0m\u001b[0;34m(\u001b[0m\u001b[0mans\u001b[0m\u001b[0;34m(\u001b[0m\u001b[0mi\u001b[0m\u001b[0;34m)\u001b[0m\u001b[0;34m,\u001b[0m \u001b[0mi\u001b[0m\u001b[0;34m)\u001b[0m \u001b[0;34m==\u001b[0m \u001b[0;32mFalse\u001b[0m\u001b[0;34m)\u001b[0m\u001b[0;34m:\u001b[0m\u001b[0;34m\u001b[0m\u001b[0;34m\u001b[0m\u001b[0m\n\u001b[0m\u001b[1;32m      3\u001b[0m         \u001b[0mprint\u001b[0m\u001b[0;34m(\u001b[0m\u001b[0;34m\"error at i\"\u001b[0m\u001b[0;34m,\u001b[0m \u001b[0mi\u001b[0m\u001b[0;34m)\u001b[0m\u001b[0;34m\u001b[0m\u001b[0;34m\u001b[0m\u001b[0m\n",
      "\u001b[0;32m/tmp/ipykernel_14506/3130204158.py\u001b[0m in \u001b[0;36mans\u001b[0;34m(n)\u001b[0m\n\u001b[1;32m     15\u001b[0m         \u001b[0mb\u001b[0m \u001b[0;34m=\u001b[0m \u001b[0;34m(\u001b[0m\u001b[0mn\u001b[0m \u001b[0;34m-\u001b[0m \u001b[0mc\u001b[0m\u001b[0;34m)\u001b[0m \u001b[0;34m//\u001b[0m \u001b[0ma\u001b[0m\u001b[0;34m\u001b[0m\u001b[0;34m\u001b[0m\u001b[0m\n\u001b[1;32m     16\u001b[0m \u001b[0;34m\u001b[0m\u001b[0m\n\u001b[0;32m---> 17\u001b[0;31m     \u001b[0;32mreturn\u001b[0m \u001b[0;34m[\u001b[0m\u001b[0ma\u001b[0m\u001b[0;34m,\u001b[0m \u001b[0mb\u001b[0m\u001b[0;34m,\u001b[0m \u001b[0mc\u001b[0m\u001b[0;34m]\u001b[0m\u001b[0;34m\u001b[0m\u001b[0;34m\u001b[0m\u001b[0m\n\u001b[0m",
      "\u001b[0;31mKeyboardInterrupt\u001b[0m: "
     ]
    }
   ],
   "source": [
    "for i in range(10 ** 6, 10 ** 8):\n",
    "    if ( check(ans(i), i) == False):\n",
    "        print(\"error at i\", i)"
   ]
  },
  {
   "cell_type": "code",
   "execution_count": null,
   "id": "15545b9e",
   "metadata": {},
   "outputs": [],
   "source": []
  }
 ],
 "metadata": {
  "kernelspec": {
   "display_name": "Python 3 (ipykernel)",
   "language": "python",
   "name": "python3"
  },
  "language_info": {
   "codemirror_mode": {
    "name": "ipython",
    "version": 3
   },
   "file_extension": ".py",
   "mimetype": "text/x-python",
   "name": "python",
   "nbconvert_exporter": "python",
   "pygments_lexer": "ipython3",
   "version": "3.9.13"
  }
 },
 "nbformat": 4,
 "nbformat_minor": 5
}
